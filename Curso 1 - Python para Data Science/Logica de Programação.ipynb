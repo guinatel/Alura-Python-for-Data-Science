{
 "cells": [
  {
   "cell_type": "markdown",
   "id": "1d8d8115",
   "metadata": {},
   "source": [
    "# Lógica de Programação"
   ]
  },
  {
   "cell_type": "markdown",
   "id": "b83ec07a",
   "metadata": {},
   "source": [
    "# *Definindo uma Função* "
   ]
  },
  {
   "cell_type": "code",
   "execution_count": null,
   "id": "3ff72e37",
   "metadata": {
    "scrolled": true
   },
   "outputs": [],
   "source": [
    "def saudacao():\n",
    "    nome = input('Qual é o seu nome? ')\n",
    "    print(f'Olá {nome}!')\n",
    "saudacao()"
   ]
  },
  {
   "cell_type": "markdown",
   "id": "d599c47a",
   "metadata": {},
   "source": [
    "# *Função com Parâmetros*"
   ]
  },
  {
   "cell_type": "code",
   "execution_count": null,
   "id": "99bae310",
   "metadata": {},
   "outputs": [],
   "source": [
    "nome = 'José'\n",
    "def saudacao_com_parametros(nome_da_pessoa):\n",
    "    print(f'Olá {nome_da_pessoa}')\n",
    "saudacao_com_parametros(nome)"
   ]
  },
  {
   "cell_type": "markdown",
   "id": "8385aad8",
   "metadata": {},
   "source": [
    "# *Condicional*"
   ]
  },
  {
   "cell_type": "code",
   "execution_count": null,
   "id": "c7b7b534",
   "metadata": {},
   "outputs": [],
   "source": [
    "idade = input('Qual é a sua idade? ')\n",
    "def verifica_se_pode_dirigir(idade):\n",
    "    if int(idade) >= 18:\n",
    "        print('Pode dirigir!')\n",
    "    else:\n",
    "        print('Não pode dirigir')\n",
    "verifica_se_pode_dirigir(idade)"
   ]
  },
  {
   "cell_type": "code",
   "execution_count": null,
   "id": "f5c27a80",
   "metadata": {},
   "outputs": [],
   "source": [
    "def velocidade(espaco, tempo):\n",
    " v = espaco / tempo\n",
    " print(f'Velocidade: {v} m/s')\n",
    "\n",
    "velocidade(200, 20)"
   ]
  },
  {
   "cell_type": "markdown",
   "id": "69fa096a",
   "metadata": {},
   "source": [
    "# *Listas*"
   ]
  },
  {
   "cell_type": "code",
   "execution_count": null,
   "id": "b962e553",
   "metadata": {},
   "outputs": [],
   "source": [
    "#idade = 18\n",
    "#type(idade)"
   ]
  },
  {
   "cell_type": "code",
   "execution_count": null,
   "id": "4e397200",
   "metadata": {},
   "outputs": [],
   "source": [
    "nome = 'gui'\n",
    "type(nome)"
   ]
  },
  {
   "cell_type": "code",
   "execution_count": null,
   "id": "9b579086",
   "metadata": {},
   "outputs": [],
   "source": [
    "idades = [18, 22, 15, 50]\n",
    "#         0    1   2  3 \n",
    "#         0   -3  -2  -1\n",
    "type(idades)"
   ]
  },
  {
   "cell_type": "code",
   "execution_count": null,
   "id": "1c90c791",
   "metadata": {},
   "outputs": [],
   "source": [
    "idades[-1]"
   ]
  },
  {
   "cell_type": "markdown",
   "id": "b8146c59",
   "metadata": {},
   "source": [
    "# *Laços e Loops*"
   ]
  },
  {
   "cell_type": "code",
   "execution_count": null,
   "id": "b77bc2d0",
   "metadata": {},
   "outputs": [],
   "source": [
    "# for está fora da função\n",
    "\n",
    "def verifica_se_pode_dirigir(idade):\n",
    "    if idade >= 18:\n",
    "        print(f'{idade} anos de idade TEM permissão para dirigir')\n",
    "    else:\n",
    "        print(f'{idade} anos de idade NÃO TEM permissão para dirigir')\n",
    "        \n",
    "for idade in idades:\n",
    "    verifica_se_pode_dirigir(idade)"
   ]
  },
  {
   "cell_type": "code",
   "execution_count": null,
   "id": "9e78b64d",
   "metadata": {},
   "outputs": [],
   "source": [
    "# for dentro da função\n",
    "\n",
    "def verifica_se_pode_dirigir(idades):\n",
    "    for idade in idades:\n",
    "        if idade >= 18:\n",
    "            print(f'{idade} anos de idade TEM permissão para dirigir')\n",
    "        else:\n",
    "            print(f'{idade} anos de idade NÃO TEM permissão para dirigir')\n",
    "\n",
    "verifica_se_pode_dirigir(idades)            "
   ]
  },
  {
   "cell_type": "markdown",
   "id": "ed0eff01",
   "metadata": {},
   "source": [
    "# *Boleano*"
   ]
  },
  {
   "cell_type": "code",
   "execution_count": null,
   "id": "4ed7a5d1",
   "metadata": {},
   "outputs": [],
   "source": [
    "idade = 18\n",
    "idade >= 18"
   ]
  },
  {
   "cell_type": "code",
   "execution_count": null,
   "id": "29700e04",
   "metadata": {},
   "outputs": [],
   "source": [
    "idade = 15\n",
    "idade >= 18"
   ]
  },
  {
   "cell_type": "code",
   "execution_count": null,
   "id": "4408aa88",
   "metadata": {},
   "outputs": [],
   "source": [
    "permissoes = []\n",
    "idades = [20, 14, 40]\n",
    "\n",
    "def verifica_se_pode_dirigir(idades, permissoes):\n",
    "    for idade in idades:\n",
    "        if idade >= 18:\n",
    "            permissoes.append(True)\n",
    "        else:\n",
    "            permissoes.append(False)\n",
    "            \n",
    "verifica_se_pode_dirigir(idades, permissoes)"
   ]
  },
  {
   "cell_type": "code",
   "execution_count": null,
   "id": "5d10a172",
   "metadata": {},
   "outputs": [],
   "source": [
    "permissoes"
   ]
  },
  {
   "cell_type": "code",
   "execution_count": null,
   "id": "acda8653",
   "metadata": {},
   "outputs": [],
   "source": [
    "idades"
   ]
  },
  {
   "cell_type": "code",
   "execution_count": null,
   "id": "6fc08bec",
   "metadata": {},
   "outputs": [],
   "source": [
    "for permissao in permissoes:\n",
    "    if permissao == True:\n",
    "        print('Tem permissão para dirigir')\n",
    "    else:\n",
    "        print('Não tem permissão para dirigir')"
   ]
  },
  {
   "cell_type": "code",
   "execution_count": null,
   "id": "cffa2b99",
   "metadata": {},
   "outputs": [],
   "source": [
    "#teste de lógica, a variável vai somando os novos valores\n",
    "\n",
    "a=2\n",
    "\n",
    "if a < 2: #false 2 é igual a 2\n",
    " a = a + 1\n",
    "else: #true\n",
    " a = a + 2  # a = 2 + 2 == 4\n",
    "if a < 4: # false 4 = 4\n",
    " a = a - 4 \n",
    "else: # true \n",
    " a = a + 6 # a = 4 + 6 == 10\n",
    "\n",
    "a # == 10"
   ]
  },
  {
   "cell_type": "markdown",
   "id": "5db0656c",
   "metadata": {},
   "source": [
    "# *Tipos em uma lista*"
   ]
  },
  {
   "cell_type": "code",
   "execution_count": null,
   "id": "7a54c9fd",
   "metadata": {},
   "outputs": [],
   "source": [
    "lista = ['Guilherme', 30, True, '18']\n",
    "\n",
    "for elemento in lista:\n",
    "    print(f'O elemento {elemento} é do tipo: ', type(elemento))"
   ]
  },
  {
   "cell_type": "markdown",
   "id": "a2214bcf",
   "metadata": {},
   "source": [
    "# *Imports*"
   ]
  },
  {
   "cell_type": "code",
   "execution_count": null,
   "id": "48b7e774",
   "metadata": {},
   "outputs": [],
   "source": [
    "from random import randrange, seed\n",
    "\n",
    "seed(11) # cria um numero inicial como parâmetro e partir daí cria sempre o mesmo resultado de uma forma aleatória\n",
    "randrange(0,11) # cria um numero aleatório de 0 a 10"
   ]
  },
  {
   "cell_type": "code",
   "execution_count": null,
   "id": "b6f9d343",
   "metadata": {},
   "outputs": [],
   "source": []
  },
  {
   "cell_type": "code",
   "execution_count": 216,
   "id": "96b04f85",
   "metadata": {},
   "outputs": [
    {
     "data": {
      "text/plain": [
       "[8, 2, 10, 3, 2, 6, 7, 5]"
      ]
     },
     "execution_count": 216,
     "metadata": {},
     "output_type": "execute_result"
    }
   ],
   "source": [
    "\n",
    "#seed(9) fixa o resultado aleatório\n",
    "\n",
    "notas_matematica = []\n",
    "\n",
    "for notas in range(8): #para cada nota em uma gama de 8 resultados\n",
    "    notas_matematica.append(randrange(0,11)) #cria o resultado aleatorio 8 vezes\n",
    "\n",
    "notas_matematica # mostra o conteudo criado"
   ]
  },
  {
   "cell_type": "code",
   "execution_count": 214,
   "id": "280a79de",
   "metadata": {},
   "outputs": [
    {
     "data": {
      "text/plain": [
       "8"
      ]
     },
     "execution_count": 214,
     "metadata": {},
     "output_type": "execute_result"
    }
   ],
   "source": [
    "len(notas_matematica) #mede o numero de resultados"
   ]
  },
  {
   "cell_type": "markdown",
   "id": "7496ef87",
   "metadata": {},
   "source": [
    "# *Matplotlib*"
   ]
  },
  {
   "cell_type": "code",
   "execution_count": 229,
   "id": "bd96e623",
   "metadata": {},
   "outputs": [
    {
     "data": {
      "image/png": "[encoded data removed]",
      "text/plain": [
       "<Figure size 432x288 with 1 Axes>"
      ]
     },
     "metadata": {
      "needs_background": "light"
     },
     "output_type": "display_data"
    }
   ],
   "source": [
    "import matplotlib.pyplot as plt\n",
    "\n",
    "x = list(range(1,9))\n",
    "y = notas_matematica\n",
    "plt.plot(x, y, marker='o') #cria e exibe o gráfico com essas propriedades em cima: [<matplotlib.lines.Line2D at 0x215011dedc0>]\n",
    "# , marker='o' cria as bolinhas para determinar melhor os pontos no gráfico\n",
    "plt.title('Notas de Matemática') #coloca o titulo que queremos + Text(0.5, 1.0, à esquerda\n",
    "plt.xlabel('Provas') #nomeia eixo x\n",
    "plt.ylabel('Notas') #nomeia eixo y\n",
    "plt.show() #exibe de fato como vai ficar o gráfico"
   ]
  },
  {
   "cell_type": "code",
   "execution_count": 230,
   "id": "2ef64789",
   "metadata": {},
   "outputs": [
    {
     "data": {
      "image/png": "[encoded data removed]",
      "text/plain": [
       "<Figure size 432x288 with 1 Axes>"
      ]
     },
     "metadata": {
      "needs_background": "light"
     },
     "output_type": "display_data"
    },
    {
     "data": {
      "image/png": "[encoded data removed]",
      "text/plain": [
       "<Figure size 432x288 with 1 Axes>"
      ]
     },
     "metadata": {
      "needs_background": "light"
     },
     "output_type": "display_data"
    },
    {
     "data": {
      "image/png": "[encoded data removed]",
      "text/plain": [
       "<Figure size 432x288 with 1 Axes>"
      ]
     },
     "metadata": {
      "needs_background": "light"
     },
     "output_type": "display_data"
    }
   ],
   "source": [
    "notas_matematica = ['Matemática',8,7,6,6,7,7,8,10]\n",
    "notas_portugues = ['Português',9,9,9,8,5,6,8,5]\n",
    "notas_geografia = ['Geografia',10,10,6,7,7,7,8,7]\n",
    "\n",
    "notas = [notas_matematica, notas_portugues, notas_geografia]\n",
    "\n",
    "for nota in notas:\n",
    " x = list(range(1, 9))\n",
    " y = nota[1:]\n",
    " plt.plot(x, y, marker='o')\n",
    " plt.xlabel('Provas')\n",
    " plt.ylabel('Notas')\n",
    " plt.title(nota[0])\n",
    " plt.show()"
   ]
  },
  {
   "cell_type": "code",
   "execution_count": null,
   "id": "43072937",
   "metadata": {},
   "outputs": [],
   "source": []
  }
 ],
 "metadata": {
  "kernelspec": {
   "display_name": "Python 3",
   "language": "python",
   "name": "python3"
  },
  "language_info": {
   "codemirror_mode": {
    "name": "ipython",
    "version": 3
   },
   "file_extension": ".py",
   "mimetype": "text/x-python",
   "name": "python",
   "nbconvert_exporter": "python",
   "pygments_lexer": "ipython3",
   "version": "3.8.8"
  }
 },
 "nbformat": 4,
 "nbformat_minor": 5
}
